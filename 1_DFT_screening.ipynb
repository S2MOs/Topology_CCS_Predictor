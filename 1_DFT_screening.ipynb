{
 "cells": [
  {
   "cell_type": "markdown",
   "id": "d6a84845-a4f9-43b9-be41-e5e9ee0eeadc",
   "metadata": {},
   "source": [
    "## DFT Screening - Construction of the chemical space\n",
    "\n",
    "**Author:** Quentin Duez\n",
    "\n",
    "This notebook generates files for DFT calculations and parses relevant chemical descriptors from the DFT results\n",
    "\n",
    "**Outputs:** DFT input files, 'global_data.xlsx' and 'atom_data.xlsx' after parsing descriptors from the DFT *.log files\n",
    "\n",
    "**Disclaimer :**\n",
    "Parts of this notebook correspond to code available on the auto-qchem GitHub repository \n",
    "\n",
    "Please refer to the [original repository](https://github.com/doyle-lab-ucla/auto-qchem/) and [related publication](https://pubs.rsc.org/en/content/articlelanding/2022/re/d2re00030j#!divCitation)"
   ]
  },
  {
   "cell_type": "code",
   "execution_count": 3,
   "id": "87d136e0-89f7-45f8-aaeb-b47c1ce97799",
   "metadata": {},
   "outputs": [],
   "source": [
    "import glob as glob\n",
    "import logging\n",
    "import os\n",
    "\n",
    "\n",
    "from autoqchem.gaussian_input_generator import gaussian_input_generator\n",
    "from autoqchem.gaussian_log_extractor import *\n",
    "from autoqchem.molecule import molecule\n",
    "from autoqchem.rdkit_utils import *\n",
    "\n",
    "logging.basicConfig(level=logging.INFO)\n",
    "\n",
    "RMSD_threshold = 0.35\n",
    "k_in_kcal_per_mol_K = 0.0019872041\n",
    "Hartree_in_kcal_per_mol = 627.5\n",
    "T = 298"
   ]
  },
  {
   "cell_type": "markdown",
   "id": "4808c168-6c26-49c7-a274-c88a762e2653",
   "metadata": {},
   "source": [
    "### Read diamine list and prepare files for DFT calculations"
   ]
  },
  {
   "cell_type": "code",
   "execution_count": 2,
   "id": "2559d84e-1584-43d9-b3b8-f3e6137bc37e",
   "metadata": {},
   "outputs": [],
   "source": [
    "batch_df = pd.read_excel(\"Diamines_batch_all.xlsx\")\n",
    "smiles_str_list = batch_df[\"SMILES\"].values"
   ]
  },
  {
   "cell_type": "code",
   "execution_count": 4,
   "id": "585d43fe-1310-4c63-8d51-fa6301509399",
   "metadata": {},
   "outputs": [
    {
     "name": "stdout",
     "output_type": "stream",
     "text": [
      "True\n"
     ]
    }
   ],
   "source": [
    "# Check if all SMILES are unique\n",
    "\n",
    "def allUnique(x):\n",
    "    seen = list()\n",
    "    return not any(i in seen or seen.append(i) for i in x)\n",
    "\n",
    "\n",
    "print(allUnique(smiles_str_list))"
   ]
  },
  {
   "cell_type": "code",
   "execution_count": 5,
   "id": "bcece1a3-71f7-440a-a4a6-7b5f33a11aac",
   "metadata": {},
   "outputs": [
    {
     "name": "stderr",
     "output_type": "stream",
     "text": [
      "[15:35:56] WARNING: Charges were rearranged\n",
      "\n"
     ]
    }
   ],
   "source": [
    "# Generate up to 5 conformers per compound\n",
    "mols = [molecule(s, num_conf=5) for s in smiles_str_list]"
   ]
  },
  {
   "cell_type": "markdown",
   "id": "cdceb78a",
   "metadata": {},
   "source": [
    "### Preparing files for DFT calculations"
   ]
  },
  {
   "cell_type": "code",
   "execution_count": 7,
   "id": "34b2533a-f193-4cda-a27b-fcad2306c59f",
   "metadata": {},
   "outputs": [
    {
     "name": "stderr",
     "output_type": "stream",
     "text": [
      "INFO:autoqchem.gaussian_input_generator:Generating Gaussian input files for 5 conformations.\n",
      "INFO:autoqchem.gaussian_input_generator:Generating Gaussian input files for 2 conformations.\n",
      "INFO:autoqchem.gaussian_input_generator:Generating Gaussian input files for 2 conformations.\n",
      "INFO:autoqchem.gaussian_input_generator:Generating Gaussian input files for 2 conformations.\n",
      "INFO:autoqchem.gaussian_input_generator:Generating Gaussian input files for 1 conformations.\n",
      "INFO:autoqchem.gaussian_input_generator:Generating Gaussian input files for 2 conformations.\n",
      "INFO:autoqchem.gaussian_input_generator:Generating Gaussian input files for 4 conformations.\n",
      "INFO:autoqchem.gaussian_input_generator:Generating Gaussian input files for 2 conformations.\n",
      "INFO:autoqchem.gaussian_input_generator:Generating Gaussian input files for 3 conformations.\n",
      "INFO:autoqchem.gaussian_input_generator:Generating Gaussian input files for 4 conformations.\n",
      "INFO:autoqchem.gaussian_input_generator:Generating Gaussian input files for 3 conformations.\n",
      "INFO:autoqchem.gaussian_input_generator:Generating Gaussian input files for 1 conformations.\n",
      "INFO:autoqchem.gaussian_input_generator:Generating Gaussian input files for 5 conformations.\n",
      "INFO:autoqchem.gaussian_input_generator:Generating Gaussian input files for 2 conformations.\n",
      "INFO:autoqchem.gaussian_input_generator:Generating Gaussian input files for 1 conformations.\n",
      "INFO:autoqchem.gaussian_input_generator:Generating Gaussian input files for 5 conformations.\n",
      "INFO:autoqchem.gaussian_input_generator:Generating Gaussian input files for 2 conformations.\n",
      "INFO:autoqchem.gaussian_input_generator:Generating Gaussian input files for 3 conformations.\n",
      "INFO:autoqchem.gaussian_input_generator:Generating Gaussian input files for 2 conformations.\n",
      "INFO:autoqchem.gaussian_input_generator:Generating Gaussian input files for 2 conformations.\n",
      "INFO:autoqchem.gaussian_input_generator:Generating Gaussian input files for 2 conformations.\n",
      "INFO:autoqchem.gaussian_input_generator:Generating Gaussian input files for 2 conformations.\n",
      "INFO:autoqchem.gaussian_input_generator:Generating Gaussian input files for 2 conformations.\n",
      "INFO:autoqchem.gaussian_input_generator:Generating Gaussian input files for 2 conformations.\n",
      "INFO:autoqchem.gaussian_input_generator:Generating Gaussian input files for 4 conformations.\n",
      "INFO:autoqchem.gaussian_input_generator:Generating Gaussian input files for 3 conformations.\n",
      "INFO:autoqchem.gaussian_input_generator:Generating Gaussian input files for 4 conformations.\n",
      "INFO:autoqchem.gaussian_input_generator:Generating Gaussian input files for 5 conformations.\n",
      "INFO:autoqchem.gaussian_input_generator:Generating Gaussian input files for 2 conformations.\n",
      "INFO:autoqchem.gaussian_input_generator:Generating Gaussian input files for 4 conformations.\n",
      "INFO:autoqchem.gaussian_input_generator:Generating Gaussian input files for 2 conformations.\n",
      "INFO:autoqchem.gaussian_input_generator:Generating Gaussian input files for 2 conformations.\n",
      "INFO:autoqchem.gaussian_input_generator:Generating Gaussian input files for 5 conformations.\n",
      "INFO:autoqchem.gaussian_input_generator:Generating Gaussian input files for 4 conformations.\n",
      "INFO:autoqchem.gaussian_input_generator:Generating Gaussian input files for 3 conformations.\n",
      "INFO:autoqchem.gaussian_input_generator:Generating Gaussian input files for 3 conformations.\n",
      "INFO:autoqchem.gaussian_input_generator:Generating Gaussian input files for 3 conformations.\n",
      "INFO:autoqchem.gaussian_input_generator:Generating Gaussian input files for 3 conformations.\n",
      "INFO:autoqchem.gaussian_input_generator:Generating Gaussian input files for 1 conformations.\n",
      "INFO:autoqchem.gaussian_input_generator:Generating Gaussian input files for 1 conformations.\n",
      "INFO:autoqchem.gaussian_input_generator:Generating Gaussian input files for 1 conformations.\n",
      "INFO:autoqchem.gaussian_input_generator:Generating Gaussian input files for 2 conformations.\n",
      "INFO:autoqchem.gaussian_input_generator:Generating Gaussian input files for 3 conformations.\n",
      "INFO:autoqchem.gaussian_input_generator:Generating Gaussian input files for 1 conformations.\n",
      "INFO:autoqchem.gaussian_input_generator:Generating Gaussian input files for 2 conformations.\n",
      "INFO:autoqchem.gaussian_input_generator:Generating Gaussian input files for 5 conformations.\n",
      "INFO:autoqchem.gaussian_input_generator:Generating Gaussian input files for 4 conformations.\n",
      "INFO:autoqchem.gaussian_input_generator:Generating Gaussian input files for 5 conformations.\n",
      "INFO:autoqchem.gaussian_input_generator:Generating Gaussian input files for 5 conformations.\n",
      "INFO:autoqchem.gaussian_input_generator:Generating Gaussian input files for 5 conformations.\n",
      "INFO:autoqchem.gaussian_input_generator:Generating Gaussian input files for 2 conformations.\n",
      "INFO:autoqchem.gaussian_input_generator:Generating Gaussian input files for 3 conformations.\n",
      "INFO:autoqchem.gaussian_input_generator:Generating Gaussian input files for 5 conformations.\n",
      "INFO:autoqchem.gaussian_input_generator:Generating Gaussian input files for 3 conformations.\n",
      "INFO:autoqchem.gaussian_input_generator:Generating Gaussian input files for 4 conformations.\n",
      "INFO:autoqchem.gaussian_input_generator:Generating Gaussian input files for 4 conformations.\n",
      "INFO:autoqchem.gaussian_input_generator:Generating Gaussian input files for 4 conformations.\n",
      "INFO:autoqchem.gaussian_input_generator:Generating Gaussian input files for 5 conformations.\n",
      "INFO:autoqchem.gaussian_input_generator:Generating Gaussian input files for 4 conformations.\n",
      "INFO:autoqchem.gaussian_input_generator:Generating Gaussian input files for 3 conformations.\n",
      "INFO:autoqchem.gaussian_input_generator:Generating Gaussian input files for 5 conformations.\n",
      "INFO:autoqchem.gaussian_input_generator:Generating Gaussian input files for 5 conformations.\n",
      "INFO:autoqchem.gaussian_input_generator:Generating Gaussian input files for 5 conformations.\n",
      "INFO:autoqchem.gaussian_input_generator:Generating Gaussian input files for 4 conformations.\n",
      "INFO:autoqchem.gaussian_input_generator:Generating Gaussian input files for 5 conformations.\n",
      "INFO:autoqchem.gaussian_input_generator:Generating Gaussian input files for 1 conformations.\n",
      "INFO:autoqchem.gaussian_input_generator:Generating Gaussian input files for 1 conformations.\n",
      "INFO:autoqchem.gaussian_input_generator:Generating Gaussian input files for 5 conformations.\n",
      "INFO:autoqchem.gaussian_input_generator:Generating Gaussian input files for 4 conformations.\n",
      "INFO:autoqchem.gaussian_input_generator:Generating Gaussian input files for 5 conformations.\n",
      "INFO:autoqchem.gaussian_input_generator:Generating Gaussian input files for 5 conformations.\n",
      "INFO:autoqchem.gaussian_input_generator:Generating Gaussian input files for 5 conformations.\n",
      "INFO:autoqchem.gaussian_input_generator:Generating Gaussian input files for 5 conformations.\n",
      "INFO:autoqchem.gaussian_input_generator:Generating Gaussian input files for 5 conformations.\n",
      "INFO:autoqchem.gaussian_input_generator:Generating Gaussian input files for 5 conformations.\n",
      "INFO:autoqchem.gaussian_input_generator:Generating Gaussian input files for 5 conformations.\n",
      "INFO:autoqchem.gaussian_input_generator:Generating Gaussian input files for 5 conformations.\n",
      "INFO:autoqchem.gaussian_input_generator:Generating Gaussian input files for 4 conformations.\n",
      "INFO:autoqchem.gaussian_input_generator:Generating Gaussian input files for 5 conformations.\n",
      "INFO:autoqchem.gaussian_input_generator:Generating Gaussian input files for 5 conformations.\n",
      "INFO:autoqchem.gaussian_input_generator:Generating Gaussian input files for 5 conformations.\n",
      "INFO:autoqchem.gaussian_input_generator:Generating Gaussian input files for 5 conformations.\n",
      "INFO:autoqchem.gaussian_input_generator:Generating Gaussian input files for 3 conformations.\n",
      "INFO:autoqchem.gaussian_input_generator:Generating Gaussian input files for 5 conformations.\n",
      "INFO:autoqchem.gaussian_input_generator:Generating Gaussian input files for 5 conformations.\n",
      "INFO:autoqchem.gaussian_input_generator:Generating Gaussian input files for 5 conformations.\n",
      "INFO:autoqchem.gaussian_input_generator:Generating Gaussian input files for 5 conformations.\n",
      "INFO:autoqchem.gaussian_input_generator:Generating Gaussian input files for 5 conformations.\n",
      "INFO:autoqchem.gaussian_input_generator:Generating Gaussian input files for 4 conformations.\n",
      "INFO:autoqchem.gaussian_input_generator:Generating Gaussian input files for 5 conformations.\n",
      "INFO:autoqchem.gaussian_input_generator:Generating Gaussian input files for 5 conformations.\n",
      "INFO:autoqchem.gaussian_input_generator:Generating Gaussian input files for 5 conformations.\n",
      "INFO:autoqchem.gaussian_input_generator:Generating Gaussian input files for 4 conformations.\n",
      "INFO:autoqchem.gaussian_input_generator:Generating Gaussian input files for 5 conformations.\n",
      "INFO:autoqchem.gaussian_input_generator:Generating Gaussian input files for 5 conformations.\n",
      "INFO:autoqchem.gaussian_input_generator:Generating Gaussian input files for 1 conformations.\n",
      "INFO:autoqchem.gaussian_input_generator:Generating Gaussian input files for 4 conformations.\n",
      "INFO:autoqchem.gaussian_input_generator:Generating Gaussian input files for 5 conformations.\n",
      "INFO:autoqchem.gaussian_input_generator:Generating Gaussian input files for 5 conformations.\n",
      "INFO:autoqchem.gaussian_input_generator:Generating Gaussian input files for 3 conformations.\n",
      "INFO:autoqchem.gaussian_input_generator:Generating Gaussian input files for 5 conformations.\n",
      "INFO:autoqchem.gaussian_input_generator:Generating Gaussian input files for 5 conformations.\n",
      "INFO:autoqchem.gaussian_input_generator:Generating Gaussian input files for 5 conformations.\n"
     ]
    }
   ],
   "source": [
    "def gaussprep(\n",
    "    molecule,\n",
    "    workflow_type=\"equilibrium\",\n",
    "    theory=\"APFD\",\n",
    "    solvent=\"None\",\n",
    "    light_basis_set=\"6-31G*\",\n",
    "    heavy_basis_set=\"LANL2DZ\",\n",
    "    generic_basis_set=\"genecp\",\n",
    "    max_light_atomic_number=36,\n",
    "    wall_time=\"23:59:00\",\n",
    "):\n",
    "    molecule_workdir = os.path.join(molecule.inchikey)\n",
    "    gig = gaussian_input_generator(\n",
    "        molecule,\n",
    "        workflow_type,\n",
    "        molecule_workdir,\n",
    "        theory,\n",
    "        solvent,\n",
    "        light_basis_set,\n",
    "        heavy_basis_set,\n",
    "        generic_basis_set,\n",
    "        max_light_atomic_number,\n",
    "    )\n",
    "\n",
    "    gig.create_gaussian_files()\n",
    "\n",
    "\n",
    "for mol in mols:\n",
    "    gaussprep(mol, theory=\"B3LYP\", light_basis_set=\"6-31G**\", solvent=\"water\")"
   ]
  },
  {
   "cell_type": "markdown",
   "id": "ffbaaf5d",
   "metadata": {},
   "source": [
    "### Store all the DFT folders in a folder called DFT_Data & run the DFT calculations"
   ]
  },
  {
   "cell_type": "markdown",
   "id": "6f23ab4b-bcf8-4ccd-bb69-6448584cc4ca",
   "metadata": {},
   "source": [
    "### Parsing the DFT *.log files to collect descriptors"
   ]
  },
  {
   "cell_type": "code",
   "execution_count": 9,
   "id": "80761940-bf03-4283-8cc2-e2de3137274c",
   "metadata": {},
   "outputs": [],
   "source": [
    "def rdmol_from_mol(mol, postDFT=True) -> Chem.Mol:\n",
    "    mol_name = mol.inchikey\n",
    "    mol_name = mol_name[\n",
    "        :14\n",
    "    ]  # We only take the first block of the inchikey because the second block might change (rdkit rearranges the charges)\n",
    "    elements, connectivity_matrix, charges = (\n",
    "        mol.elements,\n",
    "        mol.connectivity_matrix,\n",
    "        mol.charges,\n",
    "    )\n",
    "    conformer_coordinates = []\n",
    "    energies = []\n",
    "    loglist = glob.glob(f\"DFT_Data/{mol_name}*/*.log\")\n",
    "    keys = [*range(0, len(loglist), 1)]\n",
    "    print(keys)\n",
    "    for logfile in loglist:\n",
    "        # print(logfile)\n",
    "        le = gaussian_log_extractor(logfile)\n",
    "        le.check_for_exceptions()\n",
    "        le.get_atom_labels()\n",
    "        # verify that the labels are in the same order in gaussian after running it\n",
    "        labels_ok = True\n",
    "        if tuple(le.labels) != tuple(elements):\n",
    "            labels_ok = False\n",
    "        le.get_geometry()\n",
    "        conformer_coordinates.append(le.geom[list(\"XYZ\")].values)\n",
    "        le.get_descriptors()\n",
    "        energies.append(le.descriptors[\"G\"] * Hartree_in_kcal_per_mol)\n",
    "\n",
    "    rdmol = get_rdkit_mol(elements, conformer_coordinates, connectivity_matrix, charges)\n",
    "    return rdmol, energies, keys"
   ]
  },
  {
   "cell_type": "code",
   "execution_count": 10,
   "id": "3497f695-2f20-4774-8dde-7bad3f0f1842",
   "metadata": {},
   "outputs": [
    {
     "name": "stdout",
     "output_type": "stream",
     "text": [
      "NCCCCCCCCCCCCN QFTYSVGGYOXFRQ-UHFFFAOYSA-N\n",
      "[0, 1, 2, 3, 4]\n"
     ]
    },
    {
     "name": "stderr",
     "output_type": "stream",
     "text": [
      "INFO:autoqchem.gaussian_log_extractor:Molecule QFTYSVGGYOXFRQ-UHFFFAOYSA-N has 0 / 5 duplicate conformers.\n"
     ]
    },
    {
     "name": "stdout",
     "output_type": "stream",
     "text": [
      "NC1C(N)CCCC1 SSJXIUAHEKJCMH-WDSKDSINSA-N\n",
      "[0, 1]\n"
     ]
    },
    {
     "name": "stderr",
     "output_type": "stream",
     "text": [
      "INFO:autoqchem.gaussian_log_extractor:Molecule SSJXIUAHEKJCMH-WDSKDSINSA-N has 0 / 2 duplicate conformers.\n"
     ]
    },
    {
     "name": "stdout",
     "output_type": "stream",
     "text": [
      "NCCCN XFNJVJPLKCPIBV-UHFFFAOYSA-N\n",
      "[0, 1, 2]\n"
     ]
    },
    {
     "name": "stderr",
     "output_type": "stream",
     "text": [
      "INFO:autoqchem.gaussian_log_extractor:Molecule XFNJVJPLKCPIBV-UHFFFAOYSA-N has 0 / 3 duplicate conformers.\n"
     ]
    },
    {
     "name": "stdout",
     "output_type": "stream",
     "text": [
      "CC(N)CN AOHJOMMDDJHIJH-GSVOUGTGSA-N\n",
      "[0, 1]\n"
     ]
    },
    {
     "name": "stderr",
     "output_type": "stream",
     "text": [
      "INFO:autoqchem.gaussian_log_extractor:Molecule AOHJOMMDDJHIJH-GSVOUGTGSA-N has 0 / 2 duplicate conformers.\n",
      "INFO:autoqchem.gaussian_log_extractor:Molecule GEYOCULIXLDCMW-UHFFFAOYSA-N has 0 / 1 duplicate conformers.\n"
     ]
    },
    {
     "name": "stdout",
     "output_type": "stream",
     "text": [
      "NC1=CC=CC=C1N GEYOCULIXLDCMW-UHFFFAOYSA-N\n",
      "[0]\n",
      "NCCCCN KIDHWZJUCRJVML-UHFFFAOYSA-N\n",
      "[0, 1, 2]\n"
     ]
    },
    {
     "name": "stderr",
     "output_type": "stream",
     "text": [
      "INFO:autoqchem.gaussian_log_extractor:Molecule KIDHWZJUCRJVML-UHFFFAOYSA-N has 0 / 3 duplicate conformers.\n"
     ]
    },
    {
     "name": "stdout",
     "output_type": "stream",
     "text": [
      "CNCCOCCNC VXPJBVRYAHYMNY-UHFFFAOYSA-N\n",
      "[0, 1, 2, 3, 4]\n"
     ]
    },
    {
     "name": "stderr",
     "output_type": "stream",
     "text": [
      "INFO:autoqchem.gaussian_log_extractor:Molecule VXPJBVRYAHYMNY-UHFFFAOYSA-N has 0 / 5 duplicate conformers.\n"
     ]
    },
    {
     "name": "stdout",
     "output_type": "stream",
     "text": [
      "NC1=CC=CC2=C(N)C=CC=C12 KQSABULTKYLFEV-UHFFFAOYSA-N\n",
      "[0, 1]\n"
     ]
    },
    {
     "name": "stderr",
     "output_type": "stream",
     "text": [
      "INFO:autoqchem.gaussian_log_extractor:Molecule KQSABULTKYLFEV-UHFFFAOYSA-N has 1 / 2 duplicate conformers.\n"
     ]
    },
    {
     "name": "stdout",
     "output_type": "stream",
     "text": [
      "NCCCCCN VHRGRCVQAFMJIZ-UHFFFAOYSA-N\n",
      "[0, 1, 2, 3]\n"
     ]
    },
    {
     "name": "stderr",
     "output_type": "stream",
     "text": [
      "INFO:autoqchem.gaussian_log_extractor:Molecule VHRGRCVQAFMJIZ-UHFFFAOYSA-N has 0 / 4 duplicate conformers.\n"
     ]
    },
    {
     "name": "stdout",
     "output_type": "stream",
     "text": [
      "NCCCCCCN NAQMVNRVTILPCV-UHFFFAOYSA-N\n",
      "[0, 1, 2]\n"
     ]
    },
    {
     "name": "stderr",
     "output_type": "stream",
     "text": [
      "INFO:autoqchem.gaussian_log_extractor:Molecule NAQMVNRVTILPCV-UHFFFAOYSA-N has 0 / 3 duplicate conformers.\n"
     ]
    },
    {
     "name": "stdout",
     "output_type": "stream",
     "text": [
      "NCCCCCCCN PWSKHLMYTZNYKO-UHFFFAOYSA-N\n",
      "[0, 1, 2, 3, 4]\n"
     ]
    },
    {
     "name": "stderr",
     "output_type": "stream",
     "text": [
      "INFO:autoqchem.gaussian_log_extractor:Molecule PWSKHLMYTZNYKO-UHFFFAOYSA-N has 0 / 5 duplicate conformers.\n"
     ]
    },
    {
     "name": "stdout",
     "output_type": "stream",
     "text": [
      "NC1=CC=CC2=CC=CC(N)=C12 YFOOEYJGMMJJLS-UHFFFAOYSA-N\n",
      "[0]\n"
     ]
    },
    {
     "name": "stderr",
     "output_type": "stream",
     "text": [
      "INFO:autoqchem.gaussian_log_extractor:Molecule YFOOEYJGMMJJLS-UHFFFAOYSA-N has 0 / 1 duplicate conformers.\n"
     ]
    },
    {
     "name": "stdout",
     "output_type": "stream",
     "text": [
      "NCCCCCCCCN PWGJDPKCLMLPJW-UHFFFAOYSA-N\n",
      "[0, 1, 2, 3, 4]\n"
     ]
    },
    {
     "name": "stderr",
     "output_type": "stream",
     "text": [
      "INFO:autoqchem.gaussian_log_extractor:Molecule PWGJDPKCLMLPJW-UHFFFAOYSA-N has 0 / 5 duplicate conformers.\n",
      "INFO:autoqchem.gaussian_log_extractor:Molecule PIICEJLVQHRZGT-UHFFFAOYSA-N has 0 / 1 duplicate conformers.\n"
     ]
    },
    {
     "name": "stdout",
     "output_type": "stream",
     "text": [
      "NCCN PIICEJLVQHRZGT-UHFFFAOYSA-N\n",
      "[0]\n",
      "NC1=C(N)C=C2C=CC=CC2=C1 XTBLDMQMUSHDEN-UHFFFAOYSA-N\n",
      "[0, 1]\n"
     ]
    },
    {
     "name": "stderr",
     "output_type": "stream",
     "text": [
      "INFO:autoqchem.gaussian_log_extractor:Molecule XTBLDMQMUSHDEN-UHFFFAOYSA-N has 0 / 2 duplicate conformers.\n"
     ]
    },
    {
     "name": "stdout",
     "output_type": "stream",
     "text": [
      "CC(N)CCCN(CC)CC CAPCBAYULRXQAN-VIFPVBQESA-N\n",
      "[0, 1, 2, 3, 4]\n"
     ]
    },
    {
     "name": "stderr",
     "output_type": "stream",
     "text": [
      "INFO:autoqchem.gaussian_log_extractor:Molecule CAPCBAYULRXQAN-VIFPVBQESA-N has 0 / 5 duplicate conformers.\n"
     ]
    },
    {
     "name": "stdout",
     "output_type": "stream",
     "text": [
      "NCC1=CC=CC=C1N GVOYKJPMUUJXBS-UHFFFAOYSA-N\n",
      "[0, 1, 2]\n"
     ]
    },
    {
     "name": "stderr",
     "output_type": "stream",
     "text": [
      "INFO:autoqchem.gaussian_log_extractor:Molecule GVOYKJPMUUJXBS-UHFFFAOYSA-N has 0 / 3 duplicate conformers.\n"
     ]
    },
    {
     "name": "stdout",
     "output_type": "stream",
     "text": [
      "NCCCN(CC)CC QOHMWDJIBGVPIF-UHFFFAOYSA-N\n",
      "[0, 1, 2, 3, 4]\n"
     ]
    },
    {
     "name": "stderr",
     "output_type": "stream",
     "text": [
      "INFO:autoqchem.gaussian_log_extractor:Molecule QOHMWDJIBGVPIF-UHFFFAOYSA-N has 0 / 5 duplicate conformers.\n"
     ]
    },
    {
     "name": "stdout",
     "output_type": "stream",
     "text": [
      "CC1=CC=C(N)C(N)=C1 DGRGLKZMKWPMOH-UHFFFAOYSA-N\n",
      "[0, 1]\n"
     ]
    },
    {
     "name": "stderr",
     "output_type": "stream",
     "text": [
      "INFO:autoqchem.gaussian_log_extractor:Molecule DGRGLKZMKWPMOH-UHFFFAOYSA-N has 0 / 2 duplicate conformers.\n"
     ]
    },
    {
     "name": "stdout",
     "output_type": "stream",
     "text": [
      "NCCCN(C)C IUNMPGNGSSIWFP-UHFFFAOYSA-N\n",
      "[0, 1, 2]\n"
     ]
    },
    {
     "name": "stderr",
     "output_type": "stream",
     "text": [
      "INFO:autoqchem.gaussian_log_extractor:Molecule IUNMPGNGSSIWFP-UHFFFAOYSA-N has 0 / 3 duplicate conformers.\n"
     ]
    },
    {
     "name": "stdout",
     "output_type": "stream",
     "text": [
      "NC1=CC(C)=C(C)C=C1N XSZYBMMYQCYIPC-UHFFFAOYSA-N\n",
      "[0, 1]\n"
     ]
    },
    {
     "name": "stderr",
     "output_type": "stream",
     "text": [
      "INFO:autoqchem.gaussian_log_extractor:Molecule XSZYBMMYQCYIPC-UHFFFAOYSA-N has 0 / 2 duplicate conformers.\n",
      "INFO:autoqchem.gaussian_log_extractor:Molecule BXIXXXYDDJVHDL-UHFFFAOYSA-N has 0 / 1 duplicate conformers.\n"
     ]
    },
    {
     "name": "stdout",
     "output_type": "stream",
     "text": [
      "NC1=CC=C(Cl)C=C1N BXIXXXYDDJVHDL-UHFFFAOYSA-N\n",
      "[0]\n"
     ]
    },
    {
     "name": "stderr",
     "output_type": "stream",
     "text": [
      "INFO:autoqchem.gaussian_log_extractor:Molecule KWEWNOOZQVJONF-UHFFFAOYSA-N has 0 / 1 duplicate conformers.\n"
     ]
    },
    {
     "name": "stdout",
     "output_type": "stream",
     "text": [
      "NC1=CC=C(F)C=C1N KWEWNOOZQVJONF-UHFFFAOYSA-N\n",
      "[0]\n",
      "NC1=CC=C(OC)C=C1N AGAHETWGCFCMDK-UHFFFAOYSA-N\n",
      "[0, 1, 2]\n"
     ]
    },
    {
     "name": "stderr",
     "output_type": "stream",
     "text": [
      "INFO:autoqchem.gaussian_log_extractor:Molecule AGAHETWGCFCMDK-UHFFFAOYSA-N has 2 / 3 duplicate conformers.\n"
     ]
    },
    {
     "name": "stdout",
     "output_type": "stream",
     "text": [
      "NC1=CC=C([N+]([O-])=O)C=C1N RAUWPNXIALNKQM-UHFFFAOYSA-N\n",
      "[0, 1]\n"
     ]
    },
    {
     "name": "stderr",
     "output_type": "stream",
     "text": [
      "INFO:autoqchem.gaussian_log_extractor:Molecule RAUWPNXIALNKQM-UHFFFAOYSA-N has 0 / 2 duplicate conformers.\n"
     ]
    },
    {
     "name": "stdout",
     "output_type": "stream",
     "text": [
      "NC1=CC=C(C2=CC=C(N)C=C2)C=C1 HFACYLZERDEVSX-UHFFFAOYSA-N\n",
      "[0, 1, 2]\n"
     ]
    },
    {
     "name": "stderr",
     "output_type": "stream",
     "text": [
      "INFO:autoqchem.gaussian_log_extractor:Molecule HFACYLZERDEVSX-UHFFFAOYSA-N has 1 / 3 duplicate conformers.\n"
     ]
    },
    {
     "name": "stdout",
     "output_type": "stream",
     "text": [
      "NCCSSCCN APQPRKLAWCIJEK-UHFFFAOYSA-N\n",
      "[0, 1, 2, 3, 4]\n"
     ]
    },
    {
     "name": "stderr",
     "output_type": "stream",
     "text": [
      "INFO:autoqchem.gaussian_log_extractor:Molecule APQPRKLAWCIJEK-UHFFFAOYSA-N has 0 / 5 duplicate conformers.\n"
     ]
    },
    {
     "name": "stdout",
     "output_type": "stream",
     "text": [
      "NCCNC1=C2C=CC=CC2=CC=C1 NULAJYZBOLVQPQ-UHFFFAOYSA-N\n",
      "[0, 1, 2, 3, 4]\n"
     ]
    },
    {
     "name": "stderr",
     "output_type": "stream",
     "text": [
      "INFO:autoqchem.gaussian_log_extractor:Molecule NULAJYZBOLVQPQ-UHFFFAOYSA-N has 1 / 5 duplicate conformers.\n"
     ]
    },
    {
     "name": "stdout",
     "output_type": "stream",
     "text": [
      "CN(C)CCN(C)C KWYHDKDOAIKMQN-UHFFFAOYSA-N\n",
      "[0, 1, 2, 3]\n"
     ]
    },
    {
     "name": "stderr",
     "output_type": "stream",
     "text": [
      "INFO:autoqchem.gaussian_log_extractor:Molecule KWYHDKDOAIKMQN-UHFFFAOYSA-N has 1 / 4 duplicate conformers.\n"
     ]
    },
    {
     "name": "stdout",
     "output_type": "stream",
     "text": [
      "NCCN(CC)CC UDGSVBYJWHOHNN-UHFFFAOYSA-N\n",
      "[0, 1, 2, 3]\n"
     ]
    },
    {
     "name": "stderr",
     "output_type": "stream",
     "text": [
      "INFO:autoqchem.gaussian_log_extractor:Molecule UDGSVBYJWHOHNN-UHFFFAOYSA-N has 0 / 4 duplicate conformers.\n"
     ]
    },
    {
     "name": "stdout",
     "output_type": "stream",
     "text": [
      "CNCCCNC UQUPIHHYKUEXQD-UHFFFAOYSA-N\n",
      "[0, 1, 2]\n"
     ]
    },
    {
     "name": "stderr",
     "output_type": "stream",
     "text": [
      "INFO:autoqchem.gaussian_log_extractor:Molecule UQUPIHHYKUEXQD-UHFFFAOYSA-N has 0 / 3 duplicate conformers.\n"
     ]
    },
    {
     "name": "stdout",
     "output_type": "stream",
     "text": [
      "CNCCNC KVKFRMCSXWQSNT-UHFFFAOYSA-N\n",
      "[0, 1, 2]\n"
     ]
    },
    {
     "name": "stderr",
     "output_type": "stream",
     "text": [
      "INFO:autoqchem.gaussian_log_extractor:Molecule KVKFRMCSXWQSNT-UHFFFAOYSA-N has 0 / 3 duplicate conformers.\n"
     ]
    },
    {
     "name": "stdout",
     "output_type": "stream",
     "text": [
      "CCNCCCNCC BEPGHZIEOVULBU-UHFFFAOYSA-N\n",
      "[0, 1, 2, 3, 4]\n"
     ]
    },
    {
     "name": "stderr",
     "output_type": "stream",
     "text": [
      "INFO:autoqchem.gaussian_log_extractor:Molecule BEPGHZIEOVULBU-UHFFFAOYSA-N has 0 / 5 duplicate conformers.\n"
     ]
    },
    {
     "name": "stdout",
     "output_type": "stream",
     "text": [
      "NC1=CC=C(N(CC)CC)C=C1 QNGVNLMMEQUVQK-UHFFFAOYSA-N\n",
      "[0, 1, 2, 3, 4]\n"
     ]
    },
    {
     "name": "stderr",
     "output_type": "stream",
     "text": [
      "INFO:autoqchem.gaussian_log_extractor:Molecule QNGVNLMMEQUVQK-UHFFFAOYSA-N has 1 / 5 duplicate conformers.\n"
     ]
    },
    {
     "name": "stdout",
     "output_type": "stream",
     "text": [
      "CCNCCN SCZVXVGZMZRGRU-UHFFFAOYSA-N\n",
      "[0, 1]\n"
     ]
    },
    {
     "name": "stderr",
     "output_type": "stream",
     "text": [
      "INFO:autoqchem.gaussian_log_extractor:Molecule SCZVXVGZMZRGRU-UHFFFAOYSA-N has 0 / 2 duplicate conformers.\n"
     ]
    },
    {
     "name": "stdout",
     "output_type": "stream",
     "text": [
      "NCCCNC QHJABUZHRJTCAR-UHFFFAOYSA-N\n",
      "[0, 1]\n"
     ]
    },
    {
     "name": "stderr",
     "output_type": "stream",
     "text": [
      "INFO:autoqchem.gaussian_log_extractor:Molecule QHJABUZHRJTCAR-UHFFFAOYSA-N has 0 / 2 duplicate conformers.\n"
     ]
    },
    {
     "name": "stdout",
     "output_type": "stream",
     "text": [
      "CNCCN KFIGICHILYTCJF-UHFFFAOYSA-N\n",
      "[0, 1, 2]\n"
     ]
    },
    {
     "name": "stderr",
     "output_type": "stream",
     "text": [
      "INFO:autoqchem.gaussian_log_extractor:Molecule KFIGICHILYTCJF-UHFFFAOYSA-N has 0 / 3 duplicate conformers.\n"
     ]
    },
    {
     "name": "stdout",
     "output_type": "stream",
     "text": [
      "NCCNC1=CC=CC=C1 OCIDXARMXNJACB-UHFFFAOYSA-N\n",
      "[0, 1, 2]\n"
     ]
    },
    {
     "name": "stderr",
     "output_type": "stream",
     "text": [
      "INFO:autoqchem.gaussian_log_extractor:Molecule OCIDXARMXNJACB-UHFFFAOYSA-N has 0 / 3 duplicate conformers.\n",
      "INFO:autoqchem.gaussian_log_extractor:Molecule CBCKQZAAMUWICA-UHFFFAOYSA-N has 0 / 1 duplicate conformers.\n"
     ]
    },
    {
     "name": "stdout",
     "output_type": "stream",
     "text": [
      "NC1=CC=C(N)C=C1 CBCKQZAAMUWICA-UHFFFAOYSA-N\n",
      "[0]\n",
      "NCC1=CC=C(CN)C=C1 ISKQADXMHQSTHK-UHFFFAOYSA-N\n",
      "[0, 1, 2, 3]\n"
     ]
    },
    {
     "name": "stderr",
     "output_type": "stream",
     "text": [
      "INFO:autoqchem.gaussian_log_extractor:Molecule ISKQADXMHQSTHK-UHFFFAOYSA-N has 0 / 4 duplicate conformers.\n",
      "INFO:autoqchem.gaussian_log_extractor:Molecule WZCQRUWWHSTZEM-UHFFFAOYSA-N has 0 / 1 duplicate conformers.\n"
     ]
    },
    {
     "name": "stdout",
     "output_type": "stream",
     "text": [
      "NC1=CC(N)=CC=C1 WZCQRUWWHSTZEM-UHFFFAOYSA-N\n",
      "[0]\n",
      "NCC1=C(CN)C=CC=C1 GKXVJHDEWHKBFH-UHFFFAOYSA-N\n",
      "[0, 1, 2]\n"
     ]
    },
    {
     "name": "stderr",
     "output_type": "stream",
     "text": [
      "INFO:autoqchem.gaussian_log_extractor:Molecule GKXVJHDEWHKBFH-UHFFFAOYSA-N has 0 / 3 duplicate conformers.\n"
     ]
    },
    {
     "name": "stdout",
     "output_type": "stream",
     "text": [
      "NCC1=CC=CC(CN)=C1 FDLQZKYLHJJBHD-UHFFFAOYSA-N\n",
      "[0, 1]\n"
     ]
    },
    {
     "name": "stderr",
     "output_type": "stream",
     "text": [
      "INFO:autoqchem.gaussian_log_extractor:Molecule FDLQZKYLHJJBHD-UHFFFAOYSA-N has 0 / 2 duplicate conformers.\n",
      "INFO:autoqchem.gaussian_log_extractor:Molecule IMNIMPAHZVJRPE-UHFFFAOYSA-N has 0 / 1 duplicate conformers.\n"
     ]
    },
    {
     "name": "stdout",
     "output_type": "stream",
     "text": [
      "N12CCN(CC2)CC1 IMNIMPAHZVJRPE-UHFFFAOYSA-N\n",
      "[0]\n",
      "NC1CC(N)CCC1 GEQHKFFSPGPGLN-PHDIDXHHSA-N\n",
      "[0, 1]\n"
     ]
    },
    {
     "name": "stderr",
     "output_type": "stream",
     "text": [
      "INFO:autoqchem.gaussian_log_extractor:Molecule GEQHKFFSPGPGLN-PHDIDXHHSA-N has 0 / 2 duplicate conformers.\n"
     ]
    },
    {
     "name": "stdout",
     "output_type": "stream",
     "text": [
      "CCNCCNCC CJKRXEBLWJVYJD-UHFFFAOYSA-N\n",
      "[0, 1, 2, 3, 4]\n"
     ]
    },
    {
     "name": "stderr",
     "output_type": "stream",
     "text": [
      "INFO:autoqchem.gaussian_log_extractor:Molecule CJKRXEBLWJVYJD-UHFFFAOYSA-N has 0 / 5 duplicate conformers.\n"
     ]
    },
    {
     "name": "stdout",
     "output_type": "stream",
     "text": [
      "C1(CCCC2CCNCC2)CCNCC1 OXEZLYIDQPBCBB-UHFFFAOYSA-N\n",
      "[0, 1, 2, 3, 4]\n"
     ]
    },
    {
     "name": "stderr",
     "output_type": "stream",
     "text": [
      "INFO:autoqchem.gaussian_log_extractor:Molecule OXEZLYIDQPBCBB-UHFFFAOYSA-N has 0 / 5 duplicate conformers.\n"
     ]
    },
    {
     "name": "stdout",
     "output_type": "stream",
     "text": [
      "NC1=C(C)C=C(CC2=CC(C)=C(C(CC)=C2)N)C=C1CC QJENIOQDYXRGLF-UHFFFAOYSA-N\n",
      "[0, 1, 2, 3, 4]\n"
     ]
    },
    {
     "name": "stderr",
     "output_type": "stream",
     "text": [
      "INFO:autoqchem.gaussian_log_extractor:Molecule QJENIOQDYXRGLF-UHFFFAOYSA-N has 0 / 5 duplicate conformers.\n"
     ]
    },
    {
     "name": "stdout",
     "output_type": "stream",
     "text": [
      "NC1=CC=C(C(C2=CC=CC=C2)=C(C3=CC=C(N)C=C3)C4=CC=CC=C4)C=C1 FZIHVNZJLMYTFH-QPLCGJKRSA-N\n",
      "[0, 1, 2, 3, 4]\n"
     ]
    },
    {
     "name": "stderr",
     "output_type": "stream",
     "text": [
      "INFO:autoqchem.gaussian_log_extractor:Molecule FZIHVNZJLMYTFH-QPLCGJKRSA-N has 2 / 5 duplicate conformers.\n"
     ]
    },
    {
     "name": "stdout",
     "output_type": "stream",
     "text": [
      "C1(NCC2=CC=C(CNC3=CC=CC=C3)C=C2)=CC=CC=C1 DXWQPWMYKQYRDS-UHFFFAOYSA-N\n",
      "[0, 1, 2, 3, 4]\n"
     ]
    },
    {
     "name": "stderr",
     "output_type": "stream",
     "text": [
      "INFO:autoqchem.gaussian_log_extractor:Molecule DXWQPWMYKQYRDS-UHFFFAOYSA-N has 0 / 5 duplicate conformers.\n"
     ]
    },
    {
     "name": "stdout",
     "output_type": "stream",
     "text": [
      "CC1(C)CC(N)CC(C)(C)N1 FTVFPPFZRRKJIH-UHFFFAOYSA-N\n",
      "[0]\n"
     ]
    },
    {
     "name": "stderr",
     "output_type": "stream",
     "text": [
      "INFO:autoqchem.gaussian_log_extractor:Molecule FTVFPPFZRRKJIH-UHFFFAOYSA-N has 0 / 1 duplicate conformers.\n"
     ]
    },
    {
     "name": "stdout",
     "output_type": "stream",
     "text": [
      "NCC1CC(CN)CCC1 QLBRROYTTDFLDX-HTQZYQBOSA-N\n",
      "[0, 1, 2]\n"
     ]
    },
    {
     "name": "stderr",
     "output_type": "stream",
     "text": [
      "INFO:autoqchem.gaussian_log_extractor:Molecule QLBRROYTTDFLDX-HTQZYQBOSA-N has 0 / 3 duplicate conformers.\n"
     ]
    },
    {
     "name": "stdout",
     "output_type": "stream",
     "text": [
      "NC1=CC=C(CC2=CC=C(N)C=C2)C=C1 YBRVSVVVWCFQMG-UHFFFAOYSA-N\n",
      "[0, 1, 2]\n"
     ]
    },
    {
     "name": "stderr",
     "output_type": "stream",
     "text": [
      "INFO:autoqchem.gaussian_log_extractor:Molecule YBRVSVVVWCFQMG-UHFFFAOYSA-N has 1 / 3 duplicate conformers.\n"
     ]
    },
    {
     "name": "stdout",
     "output_type": "stream",
     "text": [
      "O=C(C1=CC=C(N)C=C1)C2=CC=C(N)C=C2 ZLSMCQSGRWNEGX-UHFFFAOYSA-N\n",
      "[0, 1, 2, 3, 4]\n"
     ]
    },
    {
     "name": "stderr",
     "output_type": "stream",
     "text": [
      "INFO:autoqchem.gaussian_log_extractor:Molecule ZLSMCQSGRWNEGX-UHFFFAOYSA-N has 3 / 5 duplicate conformers.\n"
     ]
    },
    {
     "name": "stdout",
     "output_type": "stream",
     "text": [
      "NC1=CC=C(C2=CC=C(N)C=C2C(F)(F)F)C(C(F)(F)F)=C1 NVKGJHAQGWCWDI-UHFFFAOYSA-N\n",
      "[0, 1, 2, 3, 4]\n"
     ]
    },
    {
     "name": "stderr",
     "output_type": "stream",
     "text": [
      "INFO:autoqchem.gaussian_log_extractor:Molecule NVKGJHAQGWCWDI-UHFFFAOYSA-N has 3 / 5 duplicate conformers.\n"
     ]
    },
    {
     "name": "stdout",
     "output_type": "stream",
     "text": [
      "NC1=CC=C(C2=CC=C(N)C=C2C)C(C)=C1 QYIMZXITLDTULQ-UHFFFAOYSA-N\n",
      "[0, 1, 2, 3]\n"
     ]
    },
    {
     "name": "stderr",
     "output_type": "stream",
     "text": [
      "INFO:autoqchem.gaussian_log_extractor:Molecule QYIMZXITLDTULQ-UHFFFAOYSA-N has 2 / 4 duplicate conformers.\n"
     ]
    },
    {
     "name": "stdout",
     "output_type": "stream",
     "text": [
      "NC1=CC=C(SC2=CC=C(N)C=C2)C=C1 ICNFHJVPAJKPHW-UHFFFAOYSA-N\n",
      "[0, 1, 2, 3]\n"
     ]
    },
    {
     "name": "stderr",
     "output_type": "stream",
     "text": [
      "INFO:autoqchem.gaussian_log_extractor:Molecule ICNFHJVPAJKPHW-UHFFFAOYSA-N has 2 / 4 duplicate conformers.\n"
     ]
    },
    {
     "name": "stdout",
     "output_type": "stream",
     "text": [
      "NC1=CC=C(/N=N/C2=CC=C(N)C=C2)C=C1 KQIKKETXZQDHGE-FOCLMDBBSA-N\n",
      "[0, 1, 2, 3]\n"
     ]
    },
    {
     "name": "stderr",
     "output_type": "stream",
     "text": [
      "INFO:autoqchem.gaussian_log_extractor:Molecule KQIKKETXZQDHGE-FOCLMDBBSA-N has 3 / 4 duplicate conformers.\n"
     ]
    },
    {
     "name": "stdout",
     "output_type": "stream",
     "text": [
      "NC1=CC=C(OC2=CC=C(N)C=C2)C=C1 HLBLWEWZXPIGSM-UHFFFAOYSA-N\n",
      "[0, 1, 2]\n"
     ]
    },
    {
     "name": "stderr",
     "output_type": "stream",
     "text": [
      "INFO:autoqchem.gaussian_log_extractor:Molecule HLBLWEWZXPIGSM-UHFFFAOYSA-N has 1 / 3 duplicate conformers.\n"
     ]
    },
    {
     "name": "stdout",
     "output_type": "stream",
     "text": [
      "NCC(C)(C)CN DDHUNHGZUHZNKB-UHFFFAOYSA-N\n",
      "[0, 1]\n"
     ]
    },
    {
     "name": "stderr",
     "output_type": "stream",
     "text": [
      "INFO:autoqchem.gaussian_log_extractor:Molecule DDHUNHGZUHZNKB-UHFFFAOYSA-N has 0 / 2 duplicate conformers.\n"
     ]
    },
    {
     "name": "stdout",
     "output_type": "stream",
     "text": [
      "NCCOCCOCCOCCN NIQFAJBKEHPUAM-UHFFFAOYSA-N\n",
      "[0, 1, 2, 3, 4]\n"
     ]
    },
    {
     "name": "stderr",
     "output_type": "stream",
     "text": [
      "INFO:autoqchem.gaussian_log_extractor:Molecule NIQFAJBKEHPUAM-UHFFFAOYSA-N has 0 / 5 duplicate conformers.\n"
     ]
    },
    {
     "name": "stdout",
     "output_type": "stream",
     "text": [
      "NCCOCCOCCN IWBOPFCKHIJFMS-UHFFFAOYSA-N\n",
      "[0, 1, 2, 3, 4]\n"
     ]
    },
    {
     "name": "stderr",
     "output_type": "stream",
     "text": [
      "INFO:autoqchem.gaussian_log_extractor:Molecule IWBOPFCKHIJFMS-UHFFFAOYSA-N has 0 / 5 duplicate conformers.\n"
     ]
    },
    {
     "name": "stdout",
     "output_type": "stream",
     "text": [
      "CC1=CC=C(NCCOCCOCCNC2=CC=C(C)C=C2)C=C1 RRZROWKVNHGBPP-UHFFFAOYSA-N\n",
      "[0, 1, 2, 3, 4]\n"
     ]
    },
    {
     "name": "stderr",
     "output_type": "stream",
     "text": [
      "INFO:autoqchem.gaussian_log_extractor:Molecule RRZROWKVNHGBPP-UHFFFAOYSA-N has 0 / 5 duplicate conformers.\n"
     ]
    },
    {
     "name": "stdout",
     "output_type": "stream",
     "text": [
      "O=S(C1=CC=C(N)C=C1)(C2=CC=C(N)C=C2)=O MQJKPEGWNLWLTK-UHFFFAOYSA-N\n",
      "[0, 1, 2]\n"
     ]
    },
    {
     "name": "stderr",
     "output_type": "stream",
     "text": [
      "INFO:autoqchem.gaussian_log_extractor:Molecule MQJKPEGWNLWLTK-UHFFFAOYSA-N has 2 / 3 duplicate conformers.\n"
     ]
    },
    {
     "name": "stdout",
     "output_type": "stream",
     "text": [
      "CC1CC(CC2CC(C)C(N)CC2)CCC1N IGSBHTZEJMPDSZ-WCBJTDJXSA-N\n",
      "[0, 1, 2, 3, 4]\n"
     ]
    },
    {
     "name": "stderr",
     "output_type": "stream",
     "text": [
      "INFO:autoqchem.gaussian_log_extractor:Molecule IGSBHTZEJMPDSZ-WCBJTDJXSA-N has 0 / 5 duplicate conformers.\n",
      "INFO:autoqchem.gaussian_log_extractor:Molecule GLUUGHFHXGJENI-UHFFFAOYSA-N has 0 / 1 duplicate conformers.\n"
     ]
    },
    {
     "name": "stdout",
     "output_type": "stream",
     "text": [
      "N1CCNCC1 GLUUGHFHXGJENI-UHFFFAOYSA-N\n",
      "[0]\n",
      "CC1=CC=C(N)C=C1N VOZKAJLKRJDJLL-UHFFFAOYSA-N\n",
      "[0, 1]\n"
     ]
    },
    {
     "name": "stderr",
     "output_type": "stream",
     "text": [
      "INFO:autoqchem.gaussian_log_extractor:Molecule VOZKAJLKRJDJLL-UHFFFAOYSA-N has 1 / 2 duplicate conformers.\n"
     ]
    },
    {
     "name": "stdout",
     "output_type": "stream",
     "text": [
      "CC1=CC=C(NCCCCNC2=CC=C(C)C=C2)C=C1 IXVDJDOFHBHDMT-UHFFFAOYSA-N\n",
      "[0, 1, 2, 3, 4]\n"
     ]
    },
    {
     "name": "stderr",
     "output_type": "stream",
     "text": [
      "INFO:autoqchem.gaussian_log_extractor:Molecule IXVDJDOFHBHDMT-UHFFFAOYSA-N has 0 / 5 duplicate conformers.\n"
     ]
    },
    {
     "name": "stdout",
     "output_type": "stream",
     "text": [
      "N[C@@H](CCCN)C(O)=O AHLPHDHHMVZTML-BYPYZUCNSA-N\n",
      "[0, 1, 2]\n"
     ]
    },
    {
     "name": "stderr",
     "output_type": "stream",
     "text": [
      "INFO:autoqchem.gaussian_log_extractor:Molecule AHLPHDHHMVZTML-BYPYZUCNSA-N has 0 / 3 duplicate conformers.\n"
     ]
    },
    {
     "name": "stdout",
     "output_type": "stream",
     "text": [
      "NC1=CC=C2C=CC=CC2=C1C3=C4C=CC=CC4=CC=C3N DDAPSNKEOHDLKB-UHFFFAOYSA-N\n",
      "[0, 1, 2, 3]\n"
     ]
    },
    {
     "name": "stderr",
     "output_type": "stream",
     "text": [
      "INFO:autoqchem.gaussian_log_extractor:Molecule DDAPSNKEOHDLKB-UHFFFAOYSA-N has 2 / 4 duplicate conformers.\n"
     ]
    },
    {
     "name": "stdout",
     "output_type": "stream",
     "text": [
      "NCCCOCCOCCOCCCN JCEZOHLWDIONSP-UHFFFAOYSA-N\n",
      "[0, 1, 2, 3, 4]\n"
     ]
    },
    {
     "name": "stderr",
     "output_type": "stream",
     "text": [
      "INFO:autoqchem.gaussian_log_extractor:Molecule JCEZOHLWDIONSP-UHFFFAOYSA-N has 0 / 5 duplicate conformers.\n"
     ]
    },
    {
     "name": "stdout",
     "output_type": "stream",
     "text": [
      "NCCCCCCCCCN SXJVFQLYZSNZBT-UHFFFAOYSA-N\n",
      "[0, 1, 2, 3, 4]\n"
     ]
    },
    {
     "name": "stderr",
     "output_type": "stream",
     "text": [
      "INFO:autoqchem.gaussian_log_extractor:Molecule SXJVFQLYZSNZBT-UHFFFAOYSA-N has 0 / 5 duplicate conformers.\n"
     ]
    },
    {
     "name": "stdout",
     "output_type": "stream",
     "text": [
      "NCCCCCCCCCCN YQLZOAVZWJBZSY-UHFFFAOYSA-N\n",
      "[0, 1, 2, 3, 4]\n"
     ]
    },
    {
     "name": "stderr",
     "output_type": "stream",
     "text": [
      "INFO:autoqchem.gaussian_log_extractor:Molecule YQLZOAVZWJBZSY-UHFFFAOYSA-N has 0 / 5 duplicate conformers.\n"
     ]
    },
    {
     "name": "stdout",
     "output_type": "stream",
     "text": [
      "NCCCCCCCCCCCN KLNPWTHGTVSSEU-UHFFFAOYSA-N\n",
      "[0, 1, 2, 3]\n"
     ]
    },
    {
     "name": "stderr",
     "output_type": "stream",
     "text": [
      "INFO:autoqchem.gaussian_log_extractor:Molecule KLNPWTHGTVSSEU-UHFFFAOYSA-N has 0 / 4 duplicate conformers.\n"
     ]
    },
    {
     "name": "stdout",
     "output_type": "stream",
     "text": [
      "NC1=CC=C(CC2=CC=C(N)C(Cl)=C2)C=C1Cl IBOFVQJTBBUKMU-UHFFFAOYSA-N\n",
      "[0, 1, 2, 3, 4]\n"
     ]
    },
    {
     "name": "stderr",
     "output_type": "stream",
     "text": [
      "INFO:autoqchem.gaussian_log_extractor:Molecule IBOFVQJTBBUKMU-UHFFFAOYSA-N has 1 / 5 duplicate conformers.\n"
     ]
    },
    {
     "name": "stdout",
     "output_type": "stream",
     "text": [
      "CC1CC(CC2CCC(N)C(C)C2)CCC1N IGSBHTZEJMPDSZ-JRULLXGZSA-N\n",
      "[0, 1, 2, 3, 4]\n"
     ]
    },
    {
     "name": "stderr",
     "output_type": "stream",
     "text": [
      "INFO:autoqchem.gaussian_log_extractor:Molecule IGSBHTZEJMPDSZ-JRULLXGZSA-N has 0 / 5 duplicate conformers.\n"
     ]
    },
    {
     "name": "stdout",
     "output_type": "stream",
     "text": [
      "NC1CCC(CC2CCC(N)CC2)CC1 DZIHTWJGPDVSGE-ROTMJFINSA-N\n",
      "[0, 1, 2, 3]\n"
     ]
    },
    {
     "name": "stderr",
     "output_type": "stream",
     "text": [
      "INFO:autoqchem.gaussian_log_extractor:Molecule DZIHTWJGPDVSGE-ROTMJFINSA-N has 0 / 4 duplicate conformers.\n"
     ]
    },
    {
     "name": "stdout",
     "output_type": "stream",
     "text": [
      "NC1=CC=C(C2(C3)CC4(C5=CC=C(N)C=C5)CC3CC(C4)C2)C=C1 LALHUWOVOZGIAW-WGKKAQPQSA-N\n",
      "[0, 1, 2, 3, 4]\n"
     ]
    },
    {
     "name": "stderr",
     "output_type": "stream",
     "text": [
      "INFO:autoqchem.gaussian_log_extractor:Molecule LALHUWOVOZGIAW-WGKKAQPQSA-N has 2 / 5 duplicate conformers.\n"
     ]
    },
    {
     "name": "stdout",
     "output_type": "stream",
     "text": [
      "FC(C(C1=CC=C(OC2=CC=C(N)C=C2)C=C1)(C3=CC=C(OC4=CC=C(N)C=C4)C=C3)C(F)(F)F)(F)F HHLMWQDRYZAENA-UHFFFAOYSA-N\n",
      "[0, 1, 2, 3, 4]\n"
     ]
    },
    {
     "name": "stderr",
     "output_type": "stream",
     "text": [
      "INFO:autoqchem.gaussian_log_extractor:Molecule HHLMWQDRYZAENA-UHFFFAOYSA-N has 1 / 5 duplicate conformers.\n"
     ]
    },
    {
     "name": "stdout",
     "output_type": "stream",
     "text": [
      "C[Si](C)(CCCN)O[Si](C)(C)O[Si](C)(CCCN)C ZWRBLCDTKAWRHT-UHFFFAOYSA-N\n",
      "[0, 1, 2, 3, 4]\n"
     ]
    },
    {
     "name": "stderr",
     "output_type": "stream",
     "text": [
      "INFO:autoqchem.gaussian_log_extractor:Molecule ZWRBLCDTKAWRHT-UHFFFAOYSA-N has 0 / 5 duplicate conformers.\n"
     ]
    },
    {
     "name": "stdout",
     "output_type": "stream",
     "text": [
      "NC1=CC(OC2=CC(OC3=CC=CC(N)=C3)=CC=C2)=CC=C1 DKKYOQYISDAQER-UHFFFAOYSA-N\n",
      "[0, 1, 2, 3, 4]\n"
     ]
    },
    {
     "name": "stderr",
     "output_type": "stream",
     "text": [
      "INFO:autoqchem.gaussian_log_extractor:Molecule DKKYOQYISDAQER-UHFFFAOYSA-N has 2 / 5 duplicate conformers.\n"
     ]
    },
    {
     "name": "stdout",
     "output_type": "stream",
     "text": [
      "NC1=CC=C(SSC2=CC=C(N)C=C2)C=C1 MERLDGDYUMSLAY-UHFFFAOYSA-N\n",
      "[0, 1, 2, 3, 4]\n"
     ]
    },
    {
     "name": "stderr",
     "output_type": "stream",
     "text": [
      "INFO:autoqchem.gaussian_log_extractor:Molecule MERLDGDYUMSLAY-UHFFFAOYSA-N has 3 / 5 duplicate conformers.\n",
      "INFO:autoqchem.gaussian_log_extractor:Molecule OXIKYYJDTWKERT-OCAPTIKFSA-N has 0 / 1 duplicate conformers.\n"
     ]
    },
    {
     "name": "stdout",
     "output_type": "stream",
     "text": [
      "NCC1CCC(CN)CC1 OXIKYYJDTWKERT-OCAPTIKFSA-N\n",
      "[0]\n",
      "NC1=CC=C(C2=CC=C(N)C=C2S(=O)(O)=O)C(S(=O)(O)=O)=C1 MBJAPGAZEWPEFB-UHFFFAOYSA-N\n",
      "[0, 1, 2, 3, 4]\n"
     ]
    },
    {
     "name": "stderr",
     "output_type": "stream",
     "text": [
      "INFO:autoqchem.gaussian_log_extractor:Molecule MBJAPGAZEWPEFB-UHFFFAOYSA-N has 1 / 5 duplicate conformers.\n"
     ]
    },
    {
     "name": "stdout",
     "output_type": "stream",
     "text": [
      "NC1=CC=C(OC2=CC=C(C3=CC=C(OC4=CC=C(N)C=C4)C=C3)C=C2)C=C1 HYDATEKARGDBKU-UHFFFAOYSA-N\n",
      "[0, 1, 2, 3, 4]\n"
     ]
    },
    {
     "name": "stderr",
     "output_type": "stream",
     "text": [
      "INFO:autoqchem.gaussian_log_extractor:Molecule HYDATEKARGDBKU-UHFFFAOYSA-N has 1 / 5 duplicate conformers.\n"
     ]
    },
    {
     "name": "stdout",
     "output_type": "stream",
     "text": [
      "CC(C1=CC=C(OC2=CC=C(N)C=C2)C=C1)(C3=CC=C(OC4=CC=C(N)C=C4)C=C3)C KMKWGXGSGPYISJ-UHFFFAOYSA-N\n",
      "[0, 1, 2, 3, 4]\n"
     ]
    },
    {
     "name": "stderr",
     "output_type": "stream",
     "text": [
      "INFO:autoqchem.gaussian_log_extractor:Molecule KMKWGXGSGPYISJ-UHFFFAOYSA-N has 2 / 5 duplicate conformers.\n"
     ]
    },
    {
     "name": "stdout",
     "output_type": "stream",
     "text": [
      "NC1=CC=C(OC2=CC=C(N)C=C2C(F)(F)F)C(C(F)(F)F)=C1 NKYXYJFTTIPZDE-UHFFFAOYSA-N\n",
      "[0, 1, 2, 3, 4]\n"
     ]
    },
    {
     "name": "stderr",
     "output_type": "stream",
     "text": [
      "INFO:autoqchem.gaussian_log_extractor:Molecule NKYXYJFTTIPZDE-UHFFFAOYSA-N has 3 / 5 duplicate conformers.\n"
     ]
    },
    {
     "name": "stdout",
     "output_type": "stream",
     "text": [
      "NC(C=C1)=CC=C1C2(C3=CC=C(N)C=C3)C4=C(C=CC=C4)C5=C2C=CC=C5 KIFDSGGWDIVQGN-UHFFFAOYSA-N\n",
      "[0, 1, 2, 3, 4]\n"
     ]
    },
    {
     "name": "stderr",
     "output_type": "stream",
     "text": [
      "INFO:autoqchem.gaussian_log_extractor:Molecule KIFDSGGWDIVQGN-UHFFFAOYSA-N has 3 / 5 duplicate conformers.\n"
     ]
    },
    {
     "name": "stdout",
     "output_type": "stream",
     "text": [
      "O=C(NC1=CC=C(N)C=C1)C2=CC=C(N)C=C2 XPAQFJJCWGSXGJ-UHFFFAOYSA-N\n",
      "[0, 1, 2, 3, 4]\n"
     ]
    },
    {
     "name": "stderr",
     "output_type": "stream",
     "text": [
      "INFO:autoqchem.gaussian_log_extractor:Molecule XPAQFJJCWGSXGJ-UHFFFAOYSA-N has 3 / 5 duplicate conformers.\n"
     ]
    },
    {
     "name": "stdout",
     "output_type": "stream",
     "text": [
      "O=C(C1=CC(N)=C(C(O)=O)C=C1N)O WIOZZYWDYUOMAY-UHFFFAOYSA-N\n",
      "[0, 1, 2, 3, 4]\n"
     ]
    },
    {
     "name": "stderr",
     "output_type": "stream",
     "text": [
      "INFO:autoqchem.gaussian_log_extractor:Molecule WIOZZYWDYUOMAY-UHFFFAOYSA-N has 3 / 5 duplicate conformers.\n"
     ]
    },
    {
     "name": "stdout",
     "output_type": "stream",
     "text": [
      "CCC(NC1CCC(CC2CCC(NC(C)CC)CC2)CC1)C PICLBAFTFYTURY-RLLAOZKESA-N\n",
      "[0, 1, 2, 3, 4]\n"
     ]
    },
    {
     "name": "stderr",
     "output_type": "stream",
     "text": [
      "INFO:autoqchem.gaussian_log_extractor:Molecule PICLBAFTFYTURY-RLLAOZKESA-N has 0 / 5 duplicate conformers.\n"
     ]
    },
    {
     "name": "stdout",
     "output_type": "stream",
     "text": [
      "NCC(C)CCCN JZUHIOJYCPIVLQ-LURJTMIESA-N\n",
      "[0, 1, 2, 3]\n"
     ]
    },
    {
     "name": "stderr",
     "output_type": "stream",
     "text": [
      "INFO:autoqchem.gaussian_log_extractor:Molecule JZUHIOJYCPIVLQ-LURJTMIESA-N has 0 / 4 duplicate conformers.\n"
     ]
    },
    {
     "name": "stdout",
     "output_type": "stream",
     "text": [
      "NC1=CC=C(OC2=CC=CC(N)=C2)C=C1 ZBMISJGHVWNWTE-UHFFFAOYSA-N\n",
      "[0, 1, 2, 3]\n"
     ]
    },
    {
     "name": "stderr",
     "output_type": "stream",
     "text": [
      "INFO:autoqchem.gaussian_log_extractor:Molecule ZBMISJGHVWNWTE-UHFFFAOYSA-N has 3 / 4 duplicate conformers.\n"
     ]
    },
    {
     "name": "stdout",
     "output_type": "stream",
     "text": [
      "OC1=CC(N)=CC=C1OC2=CC=C(N)C=C2 JTUXBPXZECVPKS-UHFFFAOYSA-N\n",
      "[0, 1, 2, 3]\n"
     ]
    },
    {
     "name": "stderr",
     "output_type": "stream",
     "text": [
      "INFO:autoqchem.gaussian_log_extractor:Molecule JTUXBPXZECVPKS-UHFFFAOYSA-N has 0 / 4 duplicate conformers.\n"
     ]
    },
    {
     "name": "stdout",
     "output_type": "stream",
     "text": [
      "NC1=CC2=C(C(C)(C)CC2(C3=CC=C(N)C=C3)C)C=C1 GDGWSSXWLLHGGV-GOSISDBHSA-N\n",
      "[0, 1, 2, 3]\n"
     ]
    },
    {
     "name": "stderr",
     "output_type": "stream",
     "text": [
      "INFO:autoqchem.gaussian_log_extractor:Molecule GDGWSSXWLLHGGV-GOSISDBHSA-N has 2 / 4 duplicate conformers.\n",
      "INFO:autoqchem.gaussian_log_extractor:Molecule RLYCRLGLCUXUPO-UHFFFAOYSA-N has 0 / 1 duplicate conformers.\n"
     ]
    },
    {
     "name": "stdout",
     "output_type": "stream",
     "text": [
      "CC1=C(N)C=CC=C1N RLYCRLGLCUXUPO-UHFFFAOYSA-N\n",
      "[0]\n",
      "N[C@@H](CCCCN)C(O)=O KDXKERNSBIXSRK-YFKPBYRVSA-N\n",
      "[0, 1, 2, 3, 4]\n"
     ]
    },
    {
     "name": "stderr",
     "output_type": "stream",
     "text": [
      "INFO:autoqchem.gaussian_log_extractor:Molecule KDXKERNSBIXSRK-YFKPBYRVSA-N has 0 / 5 duplicate conformers.\n"
     ]
    },
    {
     "name": "stdout",
     "output_type": "stream",
     "text": [
      "CC1=CC=C(NCCCNC2=CC=C(C)C=C2)C=C1 JSKXMAPMKXVJKT-UHFFFAOYSA-N\n",
      "[0, 1, 2, 3]\n"
     ]
    },
    {
     "name": "stderr",
     "output_type": "stream",
     "text": [
      "INFO:autoqchem.gaussian_log_extractor:Molecule JSKXMAPMKXVJKT-UHFFFAOYSA-N has 1 / 4 duplicate conformers.\n"
     ]
    },
    {
     "name": "stdout",
     "output_type": "stream",
     "text": [
      "O[C@@H]1[C@H](NC2=CC=CC=C2N[C@H]3[C@H]([C@H]([C@@H]([C@@H](CO)O3)O)O)O)O[C@H](CO)[C@@H](O)[C@@H]1O LIBPKBFUVQJULU-KPHUVODXSA-N\n",
      "[0, 1, 2, 3, 4]\n"
     ]
    },
    {
     "name": "stderr",
     "output_type": "stream",
     "text": [
      "INFO:autoqchem.gaussian_log_extractor:Molecule LIBPKBFUVQJULU-KPHUVODXSA-N has 0 / 5 duplicate conformers.\n"
     ]
    },
    {
     "name": "stdout",
     "output_type": "stream",
     "text": [
      "NC1CC(CN)(CC(C)(C1)C)C RNLHGQLZWXBQNY-PSASIEDQSA-N\n",
      "[0, 1, 2, 3]\n"
     ]
    },
    {
     "name": "stderr",
     "output_type": "stream",
     "text": [
      "INFO:autoqchem.gaussian_log_extractor:Molecule RNLHGQLZWXBQNY-PSASIEDQSA-N has 0 / 4 duplicate conformers.\n"
     ]
    },
    {
     "name": "stdout",
     "output_type": "stream",
     "text": [
      "NC1=CC=C(OC2=CC(OC3=CC=C(N)C=C3)=CC=C2)C=C1 WUPRYUDHUFLKFL-UHFFFAOYSA-N\n",
      "[0, 1, 2, 3, 4]\n"
     ]
    },
    {
     "name": "stderr",
     "output_type": "stream",
     "text": [
      "INFO:autoqchem.gaussian_log_extractor:Molecule WUPRYUDHUFLKFL-UHFFFAOYSA-N has 3 / 5 duplicate conformers.\n"
     ]
    },
    {
     "name": "stdout",
     "output_type": "stream",
     "text": [
      "NC1=CC=C(OC2=CC=C(OC3=CC=C(N)C=C3C(F)(F)F)C=C2)C(C(F)(F)F)=C1 LACZRKUWKHQVKS-UHFFFAOYSA-N\n",
      "[0, 1, 2, 3, 4]\n"
     ]
    },
    {
     "name": "stderr",
     "output_type": "stream",
     "text": [
      "INFO:autoqchem.gaussian_log_extractor:Molecule LACZRKUWKHQVKS-UHFFFAOYSA-N has 3 / 5 duplicate conformers.\n"
     ]
    },
    {
     "name": "stdout",
     "output_type": "stream",
     "text": [
      "NC1=CC=CC=C1NC2=CC=CC=C2 NFCPRRWCTNLGSN-UHFFFAOYSA-N\n",
      "[0, 1]\n"
     ]
    },
    {
     "name": "stderr",
     "output_type": "stream",
     "text": [
      "INFO:autoqchem.gaussian_log_extractor:Molecule NFCPRRWCTNLGSN-UHFFFAOYSA-N has 0 / 2 duplicate conformers.\n"
     ]
    }
   ],
   "source": [
    "global_df = pd.DataFrame()\n",
    "atomic_df = pd.DataFrame()\n",
    "for mol in mols:\n",
    "    mol_data = {\n",
    "        \"can\": mol.can,\n",
    "        \"inchi\": mol.inchi,\n",
    "        \"inchikey\": mol.inchikey,\n",
    "        \"elements\": mol.elements,\n",
    "        \"charges\": mol.charges.tolist(),\n",
    "        \"connectivity_matrix\": mol.connectivity_matrix.flatten().tolist(),\n",
    "    }\n",
    "    print(mol.can, mol.inchikey)\n",
    "    rdmol, energies, keys = rdmol_from_mol(mol)\n",
    "    keep = prune_rmsds(rdmol, RMSD_threshold)\n",
    "    logger.info(\n",
    "        f\"Molecule {mol.inchikey} has {len(keys) - len(keep)} / {len(keys)} duplicate conformers.\"\n",
    "    )\n",
    "    mol_name = mol.inchikey\n",
    "    mol_name = mol_name[:14]\n",
    "\n",
    "    # loop over the conformers and extract info\n",
    "    conformations = []\n",
    "    loglist = glob.glob(f\"DFT_Data/{mol_name}*/*.log\")\n",
    "    for conf in loglist:\n",
    "        index = loglist.index(conf)\n",
    "        # Check if the conformer number is in the \"keep\" list\n",
    "        if index in keep:\n",
    "            # extract descriptors for this conformer from log file\n",
    "            log = glob.glob(f\"DFT_Data/{mol_name}*/{mol_name}*_conf_{index}.log\")\n",
    "            le = gaussian_log_extractor(log[0])\n",
    "            # add descriptors to conformations list\n",
    "            conformations.append(le.get_descriptors())\n",
    "        else:\n",
    "            continue\n",
    "\n",
    "    # compute weights\n",
    "    free_energies = np.array(\n",
    "        [Hartree_in_kcal_per_mol * c[\"descriptors\"][\"G\"] for c in conformations]\n",
    "    )  # in kcal_mol\n",
    "    free_energies -= free_energies.min()  # to avoid huge exponentials\n",
    "    weights = np.exp(-free_energies / (k_in_kcal_per_mol_K * T))\n",
    "    weights /= weights.sum()\n",
    "\n",
    "    mol_global_df = pd.DataFrame()\n",
    "    mol_atomic_df = pd.DataFrame()\n",
    "\n",
    "    for c in conformations:\n",
    "        index = conformations.index(c)\n",
    "        global_data = {\n",
    "            \"can\": mol_data[\"can\"],\n",
    "            \"inchi\": mol_data[\"inchi\"],\n",
    "            \"inchi_key\": mol_data[\"inchikey\"],\n",
    "            \"index\": keys[index],\n",
    "            \"weight\": weights[index],\n",
    "        }\n",
    "        global_data.update(c[\"descriptors\"])\n",
    "        temp_df = pd.DataFrame.from_dict(global_data, orient=\"index\").T\n",
    "        mol_global_df = pd.concat([mol_global_df, temp_df], ignore_index=True)\n",
    "        atomic_data = {\n",
    "            \"can\": mol_data[\"can\"],\n",
    "            \"inchi\": mol_data[\"inchi\"],\n",
    "            \"inchi_key\": mol_data[\"inchikey\"],\n",
    "            \"elements\": mol_data[\"elements\"],\n",
    "            \"connectivity_matrix\": mol_data[\"connectivity_matrix\"],\n",
    "            \"index\": keys[index],\n",
    "            \"weight\": weights[index],\n",
    "        }\n",
    "        atomic_data.update(c[\"atom_descriptors\"])\n",
    "        temp_df = pd.DataFrame.from_dict(atomic_data, orient=\"index\").T\n",
    "        mol_atomic_df = pd.concat([mol_atomic_df, temp_df], ignore_index=True)\n",
    "\n",
    "    global_df = pd.concat([global_df, mol_global_df], ignore_index=True)\n",
    "    atomic_df = pd.concat([atomic_df, mol_atomic_df], ignore_index=True)\n",
    "\n",
    "global_df.to_excel(\"global_data.xlsx\")\n",
    "atomic_df.to_excel(\"atom_data.xlsx\")"
   ]
  },
  {
   "cell_type": "code",
   "execution_count": null,
   "id": "c1c72a3f-6f54-4474-b078-ac5c42344da7",
   "metadata": {},
   "outputs": [],
   "source": []
  }
 ],
 "metadata": {
  "kernelspec": {
   "display_name": "Python 3 (ipykernel)",
   "language": "python",
   "name": "python3"
  },
  "language_info": {
   "codemirror_mode": {
    "name": "ipython",
    "version": 3
   },
   "file_extension": ".py",
   "mimetype": "text/x-python",
   "name": "python",
   "nbconvert_exporter": "python",
   "pygments_lexer": "ipython3",
   "version": "3.8.19"
  }
 },
 "nbformat": 4,
 "nbformat_minor": 5
}
